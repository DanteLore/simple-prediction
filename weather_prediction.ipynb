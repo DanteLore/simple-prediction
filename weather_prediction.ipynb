{
 "cells": [
  {
   "attachments": {},
   "cell_type": "markdown",
   "metadata": {},
   "source": [
    "# Pull the data from Athena and turn it into training data\n",
    "\n",
    "Create a series of temperature strings that look like this:\n",
    "\n",
    "[t0, t1 ... t23]\n",
    "\n",
    "...with 24 temperatures for a given site.  Create these by sliding a window along unique temperatures by site.\n",
    "\n",
    "TODO:\n",
    "\n",
    "It's not actually learning...\n",
    "\n",
    "More than one site\n",
    "Deal with nulls\n",
    "Better windowing: https://www.tensorflow.org/tutorials/structured_data/time_series#4_create_tfdatadatasets\n",
    "Other data as inputs (pressure, wind speed etc)\n",
    "Encode time as input (e.g. hour of day)\n",
    "Longer input history\n",
    "More sites in input\n",
    "Normalise the data (temp => -1 - 1 etc)\n",
    "Wind speed and direction as vector (snazzy!)\n",
    "\n",
    "\n",
    "https://www.tensorflow.org/tutorials/structured_data/time_series"
   ]
  },
  {
   "cell_type": "code",
   "execution_count": null,
   "metadata": {},
   "outputs": [
    {
     "ename": "",
     "evalue": "",
     "output_type": "error",
     "traceback": [
      "\u001b[1;31mJupyter cannot be started. Error attempting to locate Jupyter: Select an Interpreter to start Jupyter\n",
      "\u001b[1;31mRun the following command to install 'jupyter and notebook' into the Python environment. \n",
      "\u001b[1;31mCommand: 'python -m pip install jupyter notebook -U\n",
      "\u001b[1;31mor\n",
      "\u001b[1;31mconda install jupyter notebook -U'\n",
      "\u001b[1;31mClick <a href='https://aka.ms/installJupyterForVSCode'>here</a> for more info."
     ]
    }
   ],
   "source": [
    "import pandas as pd\n",
    "import numpy as np\n",
    "from pyathena import connect\n",
    "from pyathena.pandas.cursor import PandasCursor\n",
    "\n",
    "cursor = connect(s3_staging_dir=\"s3://dantelore.queryresults/pyathena/\",\n",
    "                 region_name=\"eu-west-1\", cursor_class=PandasCursor).cursor()\n",
    "\n",
    "\n",
    "length = 24\n",
    "sub_sequences = []\n",
    "\n",
    "sites_df = pd.DataFrame(['WITTERING'], columns=['site_name']) #cursor.execute(\"select distinct(site_name) from lake.weather\").as_pandas()\n",
    "for site_name in sites_df['site_name']:\n",
    "    df = cursor.execute(f\"select observation_ts, temperature from lake.weather where site_name = '{site_name}' order by observation_ts asc\").as_pandas()\n",
    "\n",
    "    df['temperature'] = df['temperature'].astype('float32')\n",
    "\n",
    "    train_mean = df['temperature'].mean()\n",
    "    train_std = df['temperature'].std()\n",
    "\n",
    "    df['temperature'] = (df['temperature'] - train_mean) / train_std\n",
    "\n",
    "    all_temps = df['temperature'].values\n",
    "\n",
    "    for i in range(0, len(all_temps) - length):\n",
    "        sub_sequences.append(all_temps[i:i+length])\n",
    "\n",
    "input_sequences = np.array(sub_sequences)\n",
    "\n",
    "xs = input_sequences[:,:-1]\n",
    "ys = input_sequences[:,-1]\n",
    "\n",
    "[(x * train_std) + train_mean for x in input_sequences[0]]\n"
   ]
  },
  {
   "cell_type": "code",
   "execution_count": null,
   "metadata": {},
   "outputs": [
    {
     "ename": "",
     "evalue": "",
     "output_type": "error",
     "traceback": [
      "\u001b[1;31mJupyter cannot be started. Error attempting to locate Jupyter: Select an Interpreter to start Jupyter\n",
      "\u001b[1;31mRun the following command to install 'jupyter and notebook' into the Python environment. \n",
      "\u001b[1;31mCommand: 'python -m pip install jupyter notebook -U\n",
      "\u001b[1;31mor\n",
      "\u001b[1;31mconda install jupyter notebook -U'\n",
      "\u001b[1;31mClick <a href='https://aka.ms/installJupyterForVSCode'>here</a> for more info."
     ]
    }
   ],
   "source": [
    "import tensorflow as tf\n",
    "from tensorflow.keras.models import Sequential\n",
    "from tensorflow.keras.layers import Dense, Bidirectional, LSTM\n",
    "from tensorflow.keras.optimizers import Adam\n",
    "\n",
    "model = Sequential([\n",
    "    Dense(units=32, input_dim=length - 1),\n",
    "    Dense(units=32),\n",
    "    Dense(units=1)\n",
    "])\n",
    "\n",
    "adam = Adam(lr=0.001)\n",
    "model.compile(loss=tf.keras.losses.MeanSquaredError(), optimizer=adam, metrics=[tf.keras.metrics.MeanAbsoluteError()])\n",
    "\n",
    "model.summary()"
   ]
  },
  {
   "cell_type": "code",
   "execution_count": null,
   "metadata": {},
   "outputs": [
    {
     "ename": "",
     "evalue": "",
     "output_type": "error",
     "traceback": [
      "\u001b[1;31mJupyter cannot be started. Error attempting to locate Jupyter: Select an Interpreter to start Jupyter\n",
      "\u001b[1;31mRun the following command to install 'jupyter and notebook' into the Python environment. \n",
      "\u001b[1;31mCommand: 'python -m pip install jupyter notebook -U\n",
      "\u001b[1;31mor\n",
      "\u001b[1;31mconda install jupyter notebook -U'\n",
      "\u001b[1;31mClick <a href='https://aka.ms/installJupyterForVSCode'>here</a> for more info."
     ]
    }
   ],
   "source": [
    "from datetime import datetime\n",
    "import matplotlib.pyplot as plt\n",
    "from IPython.display import clear_output\n",
    "\n",
    "history_df = pd.DataFrame(columns=['loss', 'mean_absolute_error'])\n",
    "\n",
    "run_count = 1\n",
    "epochs_per_run = 100\n",
    "\n",
    "for run in range(0, run_count):\n",
    "    print(f\"Starting Run {run}/{run_count}\")\n",
    "    # Use verbose=2 here to prevent progreess bars locking up jupyter after a few hours\n",
    "    history = model.fit(xs, ys, epochs=epochs_per_run, verbose=2)\n",
    "    \n",
    "    dt = datetime.now() \n",
    "    model_filename = f\"data/weather_models/model_{dt.year}_{dt.month}_{dt.day}_{dt.hour}_{dt.minute}.h5\"\n",
    "    #model.save(model_filename)\n",
    "\n",
    "    history_df = pd.concat([history_df, pd.DataFrame(history.history)], ignore_index=True)\n",
    "\n",
    "    plt.plot(history_df['mean_absolute_error'])\n",
    "    plt.title(f'Model Training Progress - Run {run} of {run_count}')\n",
    "    plt.ylabel('Accuracy')\n",
    "    plt.xlabel('Epoch')\n",
    "    plt.show()"
   ]
  }
 ],
 "metadata": {
  "kernelspec": {
   "display_name": ".venv",
   "language": "python",
   "name": "python3"
  },
  "language_info": {
   "codemirror_mode": {
    "name": "ipython",
    "version": 3
   },
   "file_extension": ".py",
   "mimetype": "text/x-python",
   "name": "python",
   "nbconvert_exporter": "python",
   "pygments_lexer": "ipython3"
  },
  "orig_nbformat": 4,
  "vscode": {
   "interpreter": {
    "hash": "6c9d8d1d19ff2cb76f7bd7f9322b68ec18224c4c5af702e8deab1393bce8d7d2"
   }
  }
 },
 "nbformat": 4,
 "nbformat_minor": 2
}
