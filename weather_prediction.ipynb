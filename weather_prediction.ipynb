{
 "cells": [
  {
   "attachments": {},
   "cell_type": "markdown",
   "metadata": {},
   "source": [
    "# Pull the data from Athena and turn it into training data\n",
    "\n",
    "Create a series of temperature strings that look like this:\n",
    "\n",
    "[t0, t1 ... t23]\n",
    "\n",
    "...with 24 temperatures for a given site.  Create these by sliding a window along unique temperatures by site.\n",
    "\n",
    "TODO:\n",
    "\n",
    "It's not actually learning...\n",
    "\n",
    "* More than one site\n",
    "* Deal with nulls\n",
    "* Better windowing: https://www.tensorflow.org/tutorials/structured_data/time_series#4_create_tfdatadatasets\n",
    "* Other data as inputs (pressure, wind speed etc)\n",
    "* Encode time as input (e.g. hour of day)\n",
    "* Longer input history\n",
    "* More sites in input\n",
    "* Normalise the data (temp => -1 - 1 etc)\n",
    "* Wind speed and direction as vector (snazzy!)\n",
    "\n",
    "\n",
    "https://www.tensorflow.org/tutorials/structured_data/time_series"
   ]
  },
  {
   "cell_type": "code",
   "execution_count": 1,
   "metadata": {},
   "outputs": [
    {
     "data": {
      "text/plain": [
       "((8391, 23, 1), (8391, 1), (933, 23, 1), (933, 1))"
      ]
     },
     "execution_count": 1,
     "metadata": {},
     "output_type": "execute_result"
    }
   ],
   "source": [
    "import pandas as pd\n",
    "import numpy as np\n",
    "from pyathena import connect\n",
    "from pyathena.pandas.cursor import PandasCursor\n",
    "from sklearn.model_selection import train_test_split\n",
    "\n",
    "cursor = connect(s3_staging_dir=\"s3://dantelore.queryresults/pyathena/\",\n",
    "                 region_name=\"eu-west-1\", cursor_class=PandasCursor).cursor()\n",
    "\n",
    "\n",
    "length = 24\n",
    "sub_sequences = []\n",
    "\n",
    "sites_df = pd.DataFrame(['WITTERING'], columns=['site_name']) #cursor.execute(\"select distinct(site_name) from lake.weather\").as_pandas()\n",
    "for site_name in sites_df['site_name']:\n",
    "    df = cursor.execute(f\"select observation_ts, temperature from lake.weather where site_name = '{site_name}' order by observation_ts asc\").as_pandas()\n",
    "\n",
    "    df['temperature'] = df['temperature'].astype('float32')\n",
    "\n",
    "    train_mean = df['temperature'].mean()\n",
    "    train_std = df['temperature'].std()\n",
    "\n",
    "    df['temperature'] = df['temperature'].apply(lambda x: (x - train_mean) / train_std)     \n",
    "\n",
    "    all_temps = df['temperature'].values\n",
    "\n",
    "    for i in range(0, len(all_temps) - length):\n",
    "        sub_sequences.append([[x] for x in all_temps[i:i+length]])\n",
    "\n",
    "input_sequences = np.array(sub_sequences)\n",
    "\n",
    "# Some funky numpy slicing here.  After the comma we are slicing by column in a 2D array - so xs takes all but the last column, ys takes only the last column\n",
    "xs = input_sequences[:,:-1]\n",
    "ys = input_sequences[:,-1]\n",
    "\n",
    "x_train, x_test, y_train, y_test = train_test_split(xs, ys, test_size=0.1)\n",
    "#x_train = xs[0:8000]\n",
    "#x_test = xs[8000:]\n",
    "#y_train = ys[0:8000]\n",
    "#y_test = ys[8000:]\n",
    "\n",
    "# ((8391, 23, 1), (8391, 1), (933, 23, 1), (933, 1))\n",
    "x_train.shape, y_train.shape, x_test.shape, y_test.shape\n"
   ]
  },
  {
   "cell_type": "code",
   "execution_count": 2,
   "metadata": {},
   "outputs": [
    {
     "name": "stdout",
     "output_type": "stream",
     "text": [
      "Metal device set to: Apple M1 Pro\n",
      "\n",
      "systemMemory: 32.00 GB\n",
      "maxCacheSize: 10.67 GB\n",
      "\n",
      "Model: \"sequential\"\n"
     ]
    },
    {
     "name": "stderr",
     "output_type": "stream",
     "text": [
      "2023-01-23 16:12:27.860849: I tensorflow/core/common_runtime/pluggable_device/pluggable_device_factory.cc:305] Could not identify NUMA node of platform GPU ID 0, defaulting to 0. Your kernel may not have been built with NUMA support.\n",
      "2023-01-23 16:12:27.861004: I tensorflow/core/common_runtime/pluggable_device/pluggable_device_factory.cc:271] Created TensorFlow device (/job:localhost/replica:0/task:0/device:GPU:0 with 0 MB memory) -> physical PluggableDevice (device: 0, name: METAL, pci bus id: <undefined>)\n",
      "/Users/dan/Development/simple-prediction/.venv/lib/python3.9/site-packages/keras/optimizers/optimizer_v2/adam.py:110: UserWarning: The `lr` argument is deprecated, use `learning_rate` instead.\n",
      "  super(Adam, self).__init__(name, **kwargs)\n"
     ]
    },
    {
     "name": "stdout",
     "output_type": "stream",
     "text": [
      "_________________________________________________________________\n",
      " Layer (type)                Output Shape              Param #   \n",
      "=================================================================\n",
      " lstm (LSTM)                 (None, 64)                16896     \n",
      "                                                                 \n",
      " dense (Dense)               (None, 8)                 520       \n",
      "                                                                 \n",
      " dense_1 (Dense)             (None, 1)                 9         \n",
      "                                                                 \n",
      "=================================================================\n",
      "Total params: 17,425\n",
      "Trainable params: 17,425\n",
      "Non-trainable params: 0\n",
      "_________________________________________________________________\n"
     ]
    }
   ],
   "source": [
    "import tensorflow as tf\n",
    "from tensorflow.keras.models import Sequential\n",
    "from tensorflow.keras.layers import Dense, Bidirectional, LSTM, InputLayer\n",
    "from tensorflow.keras.optimizers import Adam\n",
    "\n",
    "model = Sequential([\n",
    "    InputLayer((length - 1, 1)),\n",
    "    LSTM(64),\n",
    "    Dense(units=8, activation='relu'),\n",
    "    Dense(units=1, activation='linear')\n",
    "])\n",
    "\n",
    "adam = Adam(lr=0.0001)\n",
    "\n",
    "model.compile(loss=tf.keras.losses.MeanSquaredError(), optimizer=adam, metrics=[tf.keras.metrics.MeanAbsoluteError()])\n",
    "\n",
    "# Create the training history dataframe at the same time as the model...\n",
    "history_df = pd.DataFrame(columns=['loss', 'mean_absolute_error', 'val_loss', 'val_mean_absolute_error'])\n",
    "\n",
    "model.summary()"
   ]
  },
  {
   "cell_type": "code",
   "execution_count": 3,
   "metadata": {},
   "outputs": [
    {
     "name": "stdout",
     "output_type": "stream",
     "text": [
      "Starting Run 0/1\n",
      "Epoch 1/10\n"
     ]
    },
    {
     "name": "stderr",
     "output_type": "stream",
     "text": [
      "2023-01-23 16:12:28.282961: W tensorflow/core/platform/profile_utils/cpu_utils.cc:128] Failed to get CPU frequency: 0 Hz\n",
      "2023-01-23 16:12:29.044410: I tensorflow/core/grappler/optimizers/custom_graph_optimizer_registry.cc:113] Plugin optimizer for device_type GPU is enabled.\n",
      "2023-01-23 16:12:29.200714: I tensorflow/core/grappler/optimizers/custom_graph_optimizer_registry.cc:113] Plugin optimizer for device_type GPU is enabled.\n",
      "2023-01-23 16:12:29.358820: I tensorflow/core/grappler/optimizers/custom_graph_optimizer_registry.cc:113] Plugin optimizer for device_type GPU is enabled.\n"
     ]
    }
   ],
   "source": [
    "from datetime import datetime\n",
    "import matplotlib.pyplot as plt\n",
    "from IPython.display import clear_output\n",
    "from tensorflow.keras.callbacks import ModelCheckpoint\n",
    "\n",
    "\n",
    "tf.get_logger().setLevel('ERROR')\n",
    "\n",
    "run_count = 1\n",
    "epochs_per_run = 10\n",
    "model_filename = 'data/weather_models/model1/'\n",
    "\n",
    "cp = ModelCheckpoint(model_filename, save_best_only=True, verbose=0)\n",
    "\n",
    "for run in range(0, run_count):\n",
    "    print(f\"Starting Run {run}/{run_count}\")\n",
    "    # Use verbose=2 here to prevent progreess bars locking up jupyter after a few hours\n",
    "    history = model.fit(x_train, y_train, validation_data=(x_test, y_test), epochs=epochs_per_run, verbose=2, callbacks=[cp])\n",
    "\n",
    "    history_df = pd.concat([history_df, pd.DataFrame(history.history)], ignore_index=True)\n",
    "\n",
    "    plt.plot(history_df['mean_absolute_error'], label=\"Training Error\")\n",
    "    plt.plot(history_df['val_mean_absolute_error'], label=\"Validation Error\")\n",
    "    plt.title(f'Model Training Progress - Run {run} of {run_count}')\n",
    "    plt.ylabel('Mean Absolute Error')\n",
    "    plt.xlabel('Epoch')\n",
    "    plt.show()"
   ]
  },
  {
   "cell_type": "code",
   "execution_count": null,
   "metadata": {},
   "outputs": [],
   "source": [
    "from tensorflow.keras.models import load_model\n",
    "\n",
    "model = load_model(model_filename)\n",
    "\n",
    "train_predictions = model.predict(x_train).flatten()\n",
    "train_results = pd.DataFrame(data={'Predicted': train_predictions, \"Actual\": y_train.flatten()})\n",
    "\n",
    "train_results['Predicted'] = train_results['Predicted'].apply(lambda x: x * train_std + train_mean)\n",
    "train_results['Actual'] = train_results['Actual'].apply(lambda x: x * train_std + train_mean)\n",
    "\n",
    "plt.plot(train_results['Predicted'][0:100])\n",
    "plt.plot(train_results['Actual'][0:100])"
   ]
  },
  {
   "cell_type": "code",
   "execution_count": null,
   "metadata": {},
   "outputs": [],
   "source": [
    "val_predictions = model.predict(x_test).flatten()\n",
    "\n",
    "val_results = pd.DataFrame(data={'Predicted': val_predictions, \"Actual\": y_test.flatten()})\n",
    "\n",
    "val_results['Predicted'] = val_results['Predicted'].apply(lambda x: x * train_std + train_mean)\n",
    "val_results['Actual'] = val_results['Actual'].apply(lambda x: x * train_std + train_mean)\n",
    "\n",
    "plt.plot(val_results['Predicted'][0:100])\n",
    "plt.plot(val_results['Actual'][0:100])"
   ]
  }
 ],
 "metadata": {
  "kernelspec": {
   "display_name": ".venv",
   "language": "python",
   "name": "python3"
  },
  "language_info": {
   "codemirror_mode": {
    "name": "ipython",
    "version": 3
   },
   "file_extension": ".py",
   "mimetype": "text/x-python",
   "name": "python",
   "nbconvert_exporter": "python",
   "pygments_lexer": "ipython3",
   "version": "3.9.6"
  },
  "orig_nbformat": 4,
  "vscode": {
   "interpreter": {
    "hash": "6c9d8d1d19ff2cb76f7bd7f9322b68ec18224c4c5af702e8deab1393bce8d7d2"
   }
  }
 },
 "nbformat": 4,
 "nbformat_minor": 2
}
