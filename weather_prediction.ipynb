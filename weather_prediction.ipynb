{
 "cells": [
  {
   "attachments": {},
   "cell_type": "markdown",
   "metadata": {},
   "source": [
    "# Pull the data from Athena and turn it into training data\n",
    "\n",
    "Create a series of temperature strings that look like this:\n",
    "\n",
    "[t0, t1 ... t23]\n",
    "\n",
    "...with 24 temperatures for a given site.  Create these by sliding a window along unique temperatures by site.\n",
    "\n",
    "TODO:\n",
    "\n",
    "It's not actually learning...\n",
    "\n",
    "More than one site\n",
    "Deal with nulls\n",
    "Better windowing: https://www.tensorflow.org/tutorials/structured_data/time_series#4_create_tfdatadatasets\n",
    "Other data as inputs (pressure, wind speed etc)\n",
    "Encode time as input (e.g. hour of day)\n",
    "Longer input history\n",
    "More sites in input\n",
    "Normalise the data (temp => -1 - 1 etc)\n",
    "Wind speed and direction as vector (snazzy!)\n",
    "\n",
    "\n",
    "https://www.tensorflow.org/tutorials/structured_data/time_series"
   ]
  },
  {
   "cell_type": "code",
   "execution_count": 88,
   "metadata": {},
   "outputs": [
    {
     "data": {
      "text/plain": [
       "[11.1]"
      ]
     },
     "execution_count": 88,
     "metadata": {},
     "output_type": "execute_result"
    }
   ],
   "source": [
    "import pandas as pd\n",
    "import numpy as np\n",
    "from pyathena import connect\n",
    "from pyathena.pandas.cursor import PandasCursor\n",
    "\n",
    "cursor = connect(s3_staging_dir=\"s3://dantelore.queryresults/pyathena/\",\n",
    "                 region_name=\"eu-west-1\", cursor_class=PandasCursor).cursor()\n",
    "\n",
    "\n",
    "length = 2\n",
    "sub_sequences = []\n",
    "\n",
    "sites_df = pd.DataFrame(['WITTERING'], columns=['site_name']) #cursor.execute(\"select distinct(site_name) from lake.weather\").as_pandas()\n",
    "for site_name in sites_df['site_name']:\n",
    "    df = cursor.execute(f\"select observation_ts, temperature from lake.weather where site_name = '{site_name}' order by observation_ts asc\").as_pandas()\n",
    "\n",
    "    df['temperature'] = df['temperature'].astype('float32')\n",
    "\n",
    "    train_mean = df['temperature'].mean()\n",
    "    train_std = df['temperature'].std()\n",
    "\n",
    "    df['temperature'] = (df['temperature'] - train_mean) / train_std\n",
    "\n",
    "    all_temps = df['temperature'].values\n",
    "\n",
    "    for i in range(0, len(all_temps) - length):\n",
    "        sub_sequences.append(all_temps[i:i+length])\n",
    "\n",
    "input_sequences = np.array(sub_sequences)\n",
    "\n",
    "xs = input_sequences[:,:-1]\n",
    "ys = input_sequences[:,-1]\n",
    "\n",
    "[(x * train_std) + train_mean for x in xs[0]]\n"
   ]
  },
  {
   "cell_type": "code",
   "execution_count": 104,
   "metadata": {},
   "outputs": [
    {
     "name": "stdout",
     "output_type": "stream",
     "text": [
      "Model: \"sequential_31\"\n",
      "_________________________________________________________________\n",
      " Layer (type)                Output Shape              Param #   \n",
      "=================================================================\n",
      " dense_50 (Dense)            (None, 1)                 2         \n",
      "                                                                 \n",
      "=================================================================\n",
      "Total params: 2\n",
      "Trainable params: 2\n",
      "Non-trainable params: 0\n",
      "_________________________________________________________________\n"
     ]
    },
    {
     "name": "stderr",
     "output_type": "stream",
     "text": [
      "/Users/dan/Development/simple-prediction/.venv/lib/python3.9/site-packages/keras/optimizers/optimizer_v2/adam.py:110: UserWarning: The `lr` argument is deprecated, use `learning_rate` instead.\n",
      "  super(Adam, self).__init__(name, **kwargs)\n"
     ]
    }
   ],
   "source": [
    "import tensorflow as tf\n",
    "from tensorflow.keras.models import Sequential\n",
    "from tensorflow.keras.layers import Dense, Bidirectional, LSTM\n",
    "from tensorflow.keras.optimizers import Adam\n",
    "\n",
    "model = Sequential([\n",
    "    Dense(units=1, activation='relu', input_dim=length - 1)\n",
    "])\n",
    "\n",
    "adam = Adam(lr=0.1)\n",
    "model.compile(loss='mse', optimizer=adam, metrics=[tf.keras.metrics.MeanAbsoluteError()])\n",
    "\n",
    "model.summary()"
   ]
  },
  {
   "cell_type": "code",
   "execution_count": 105,
   "metadata": {},
   "outputs": [
    {
     "name": "stdout",
     "output_type": "stream",
     "text": [
      "Starting Run 0/1\n",
      "Epoch 1/100\n"
     ]
    },
    {
     "name": "stderr",
     "output_type": "stream",
     "text": [
      "2023-01-23 00:12:14.429369: I tensorflow/core/grappler/optimizers/custom_graph_optimizer_registry.cc:113] Plugin optimizer for device_type GPU is enabled.\n"
     ]
    },
    {
     "name": "stdout",
     "output_type": "stream",
     "text": [
      "292/292 - 1s - loss: 0.5402 - mean_absolute_error: 0.5146 - 1s/epoch - 4ms/step\n",
      "Epoch 2/100\n",
      "292/292 - 1s - loss: 0.4666 - mean_absolute_error: 0.4613 - 1s/epoch - 4ms/step\n",
      "Epoch 3/100\n",
      "292/292 - 1s - loss: 0.4668 - mean_absolute_error: 0.4615 - 978ms/epoch - 3ms/step\n",
      "Epoch 4/100\n",
      "292/292 - 1s - loss: 0.4673 - mean_absolute_error: 0.4630 - 975ms/epoch - 3ms/step\n",
      "Epoch 5/100\n",
      "292/292 - 1s - loss: 0.4669 - mean_absolute_error: 0.4622 - 984ms/epoch - 3ms/step\n",
      "Epoch 6/100\n",
      "292/292 - 1s - loss: 0.4673 - mean_absolute_error: 0.4632 - 975ms/epoch - 3ms/step\n",
      "Epoch 7/100\n",
      "292/292 - 1s - loss: 0.4678 - mean_absolute_error: 0.4639 - 969ms/epoch - 3ms/step\n",
      "Epoch 8/100\n",
      "292/292 - 1s - loss: 0.4678 - mean_absolute_error: 0.4641 - 1s/epoch - 4ms/step\n",
      "Epoch 9/100\n",
      "292/292 - 1s - loss: 0.4673 - mean_absolute_error: 0.4629 - 977ms/epoch - 3ms/step\n",
      "Epoch 10/100\n",
      "292/292 - 1s - loss: 0.4673 - mean_absolute_error: 0.4628 - 981ms/epoch - 3ms/step\n",
      "Epoch 11/100\n",
      "292/292 - 1s - loss: 0.4672 - mean_absolute_error: 0.4628 - 973ms/epoch - 3ms/step\n",
      "Epoch 12/100\n",
      "292/292 - 1s - loss: 0.4682 - mean_absolute_error: 0.4649 - 976ms/epoch - 3ms/step\n",
      "Epoch 13/100\n",
      "292/292 - 1s - loss: 0.4677 - mean_absolute_error: 0.4638 - 1s/epoch - 4ms/step\n",
      "Epoch 14/100\n",
      "292/292 - 1s - loss: 0.4671 - mean_absolute_error: 0.4625 - 1s/epoch - 3ms/step\n",
      "Epoch 15/100\n",
      "292/292 - 1s - loss: 0.4674 - mean_absolute_error: 0.4633 - 1s/epoch - 4ms/step\n",
      "Epoch 16/100\n",
      "292/292 - 1s - loss: 0.4672 - mean_absolute_error: 0.4628 - 1s/epoch - 4ms/step\n",
      "Epoch 17/100\n",
      "292/292 - 1s - loss: 0.4679 - mean_absolute_error: 0.4643 - 1s/epoch - 4ms/step\n",
      "Epoch 18/100\n",
      "292/292 - 1s - loss: 0.4675 - mean_absolute_error: 0.4638 - 1s/epoch - 3ms/step\n",
      "Epoch 19/100\n",
      "292/292 - 1s - loss: 0.4674 - mean_absolute_error: 0.4631 - 991ms/epoch - 3ms/step\n",
      "Epoch 20/100\n",
      "292/292 - 1s - loss: 0.4675 - mean_absolute_error: 0.4636 - 978ms/epoch - 3ms/step\n",
      "Epoch 21/100\n",
      "292/292 - 1s - loss: 0.4680 - mean_absolute_error: 0.4649 - 969ms/epoch - 3ms/step\n",
      "Epoch 22/100\n",
      "292/292 - 1s - loss: 0.4677 - mean_absolute_error: 0.4639 - 986ms/epoch - 3ms/step\n",
      "Epoch 23/100\n",
      "292/292 - 1s - loss: 0.4676 - mean_absolute_error: 0.4637 - 1s/epoch - 3ms/step\n",
      "Epoch 24/100\n",
      "292/292 - 1s - loss: 0.4675 - mean_absolute_error: 0.4636 - 989ms/epoch - 3ms/step\n",
      "Epoch 25/100\n",
      "292/292 - 1s - loss: 0.4675 - mean_absolute_error: 0.4633 - 987ms/epoch - 3ms/step\n",
      "Epoch 26/100\n",
      "292/292 - 1s - loss: 0.4675 - mean_absolute_error: 0.4634 - 985ms/epoch - 3ms/step\n",
      "Epoch 27/100\n",
      "292/292 - 1s - loss: 0.4675 - mean_absolute_error: 0.4635 - 993ms/epoch - 3ms/step\n",
      "Epoch 28/100\n",
      "292/292 - 1s - loss: 0.4679 - mean_absolute_error: 0.4646 - 986ms/epoch - 3ms/step\n",
      "Epoch 29/100\n",
      "292/292 - 1s - loss: 0.4672 - mean_absolute_error: 0.4628 - 984ms/epoch - 3ms/step\n",
      "Epoch 30/100\n"
     ]
    }
   ],
   "source": [
    "from datetime import datetime\n",
    "import matplotlib.pyplot as plt\n",
    "from IPython.display import clear_output\n",
    "\n",
    "history_df = pd.DataFrame(columns=['loss', 'accuracy'])\n",
    "\n",
    "run_count = 1\n",
    "epochs_per_run = 100\n",
    "\n",
    "for run in range(0, run_count):\n",
    "    print(f\"Starting Run {run}/{run_count}\")\n",
    "    # Use verbose=2 here to prevent progreess bars locking up jupyter after a few hours\n",
    "    history = model.fit(xs, ys, epochs=epochs_per_run, verbose=2)\n",
    "    \n",
    "    dt = datetime.now() \n",
    "    model_filename = f\"data/weather_models/model_{dt.year}_{dt.month}_{dt.day}_{dt.hour}_{dt.minute}.h5\"\n",
    "    #model.save(model_filename)\n",
    "\n",
    "    history_df = pd.concat([history_df, pd.DataFrame(history.history)], ignore_index=True)\n",
    "\n",
    "    plt.plot(history_df['accuracy'])\n",
    "    plt.title(f'Model Training Progress - Run {run} of {run_count}')\n",
    "    plt.ylabel('Accuracy')\n",
    "    plt.xlabel('Epoch')\n",
    "    plt.show()"
   ]
  }
 ],
 "metadata": {
  "kernelspec": {
   "display_name": ".venv",
   "language": "python",
   "name": "python3"
  },
  "language_info": {
   "codemirror_mode": {
    "name": "ipython",
    "version": 3
   },
   "file_extension": ".py",
   "mimetype": "text/x-python",
   "name": "python",
   "nbconvert_exporter": "python",
   "pygments_lexer": "ipython3",
   "version": "3.9.6"
  },
  "orig_nbformat": 4,
  "vscode": {
   "interpreter": {
    "hash": "6c9d8d1d19ff2cb76f7bd7f9322b68ec18224c4c5af702e8deab1393bce8d7d2"
   }
  }
 },
 "nbformat": 4,
 "nbformat_minor": 2
}
